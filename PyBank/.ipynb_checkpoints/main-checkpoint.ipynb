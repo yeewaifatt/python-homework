{
 "cells": [
  {
   "cell_type": "code",
   "execution_count": 3,
   "id": "16484a9c",
   "metadata": {
    "scrolled": true
   },
   "outputs": [
    {
     "name": "stdout",
     "output_type": "stream",
     "text": [
      "['Date', 'Profit/Losses']\n",
      "[['Jan-2010', '867884'], ['Feb-2010', '984655'], ['Mar-2010', '322013'], ['Apr-2010', '-69417'], ['May-2010', '310503'], ['Jun-2010', '522857'], ['Jul-2010', '1033096'], ['Aug-2010', '604885'], ['Sep-2010', '-216386'], ['Oct-2010', '477532'], ['Nov-2010', '893810'], ['Dec-2010', '-80353'], ['Jan-2011', '779806'], ['Feb-2011', '-335203'], ['Mar-2011', '697845'], ['Apr-2011', '793163'], ['May-2011', '485070'], ['Jun-2011', '584122'], ['Jul-2011', '62729'], ['Aug-2011', '668179'], ['Sep-2011', '899906'], ['Oct-2011', '834719'], ['Nov-2011', '132003'], ['Dec-2011', '309978'], ['Jan-2012', '-755566'], ['Feb-2012', '1170593'], ['Mar-2012', '252788'], ['Apr-2012', '1151518'], ['May-2012', '817256'], ['Jun-2012', '570757'], ['Jul-2012', '506702'], ['Aug-2012', '-1022534'], ['Sep-2012', '475062'], ['Oct-2012', '779976'], ['Nov-2012', '144175'], ['Dec-2012', '542494'], ['Jan-2013', '359333'], ['Feb-2013', '321469'], ['Mar-2013', '67780'], ['Apr-2013', '471435'], ['May-2013', '565603'], ['Jun-2013', '872480'], ['Jul-2013', '789480'], ['Aug-2013', '999942'], ['Sep-2013', '-1196225'], ['Oct-2013', '268997'], ['Nov-2013', '-687986'], ['Dec-2013', '1150461'], ['Jan-2014', '682458'], ['Feb-2014', '617856'], ['Mar-2014', '824098'], ['Apr-2014', '581943'], ['May-2014', '132864'], ['Jun-2014', '448062'], ['Jul-2014', '689161'], ['Aug-2014', '800701'], ['Sep-2014', '1166643'], ['Oct-2014', '947333'], ['Nov-2014', '578668'], ['Dec-2014', '988505'], ['Jan-2015', '1139715'], ['Feb-2015', '1029471'], ['Mar-2015', '687533'], ['Apr-2015', '-524626'], ['May-2015', '158620'], ['Jun-2015', '87795'], ['Jul-2015', '423389'], ['Aug-2015', '840723'], ['Sep-2015', '568529'], ['Oct-2015', '332067'], ['Nov-2015', '989499'], ['Dec-2015', '778237'], ['Jan-2016', '650000'], ['Feb-2016', '-1100387'], ['Mar-2016', '-174946'], ['Apr-2016', '757143'], ['May-2016', '445709'], ['Jun-2016', '712961'], ['Jul-2016', '-1163797'], ['Aug-2016', '569899'], ['Sep-2016', '768450'], ['Oct-2016', '102685'], ['Nov-2016', '795914'], ['Dec-2016', '60988'], ['Jan-2017', '138230'], ['Feb-2017', '671099']]\n"
     ]
    }
   ],
   "source": [
    "# Import csv file to read and print data\n",
    "\n",
    "import csv\n",
    "file = open('C:/Users/Wai Fatt Yee/Course_Material/MONU-VIRT-FIN-PT-02-2022-U-LOL/Unit 2 Python/Homework/Instructions/PyBank/Resources/budget_data.csv')\n",
    "csvreader = csv.reader(file)\n",
    "header = next(csvreader)\n",
    "print(header)\n",
    "rows = []\n",
    "for row in csvreader:\n",
    "    rows.append(row)\n",
    "print(rows)"
   ]
  },
  {
   "cell_type": "code",
   "execution_count": 4,
   "id": "542752db",
   "metadata": {},
   "outputs": [
    {
     "name": "stdout",
     "output_type": "stream",
     "text": [
      "<class '_io.TextIOWrapper'>\n"
     ]
    }
   ],
   "source": [
    "# Print the data type of the file object\n",
    "\n",
    "print(type(file))"
   ]
  },
  {
   "cell_type": "code",
   "execution_count": 5,
   "id": "1eaf1253",
   "metadata": {},
   "outputs": [
    {
     "name": "stdout",
     "output_type": "stream",
     "text": [
      "38382578\n",
      "$38,382,578.00\n"
     ]
    }
   ],
   "source": [
    "# Initialise variable to hold P&L amounts; read each P&L amount into list; and print sum\n",
    "\n",
    "sum_pnl = 0 \n",
    "pnl_amounts = []\n",
    "for row in rows:\n",
    "    pnl_amounts.append(int(row[1]))\n",
    "    sum_pnl += int(row[1])    \n",
    "print(sum_pnl)\n",
    "\n",
    "# Format answer\n",
    "\n",
    "formatted_sum_pnl = \"${:,.2f}\".format(sum_pnl)\n",
    "print(formatted_sum_pnl)\n",
    "    "
   ]
  },
  {
   "cell_type": "code",
   "execution_count": 6,
   "id": "2edb7aa8",
   "metadata": {},
   "outputs": [
    {
     "name": "stdout",
     "output_type": "stream",
     "text": [
      "86\n"
     ]
    }
   ],
   "source": [
    "# Count the number of months\n",
    "\n",
    "total_months = len(rows)\n",
    "print(total_months)"
   ]
  },
  {
   "cell_type": "code",
   "execution_count": 7,
   "id": "c0e39bbe",
   "metadata": {},
   "outputs": [
    {
     "name": "stdout",
     "output_type": "stream",
     "text": [
      "[116771, -662642, -391430, 379920, 212354, 510239, -428211, -821271, 693918, 416278, -974163, 860159, -1115009, 1033048, 95318, -308093, 99052, -521393, 605450, 231727, -65187, -702716, 177975, -1065544, 1926159, -917805, 898730, -334262, -246499, -64055, -1529236, 1497596, 304914, -635801, 398319, -183161, -37864, -253689, 403655, 94168, 306877, -83000, 210462, -2196167, 1465222, -956983, 1838447, -468003, -64602, 206242, -242155, -449079, 315198, 241099, 111540, 365942, -219310, -368665, 409837, 151210, -110244, -341938, -1212159, 683246, -70825, 335594, 417334, -272194, -236462, 657432, -211262, -128237, -1750387, 925441, 932089, -311434, 267252, -1876758, 1733696, 198551, -665765, 693229, -734926, 77242, 532869]\n",
      "-196785\n",
      "-2315.1176470588234\n",
      "1926159\n",
      "-2196167\n",
      "$-2,315.12\n",
      "$1,926,159.00\n",
      "$-2,196,167.00\n"
     ]
    }
   ],
   "source": [
    "# Initialise variable to store P&L difference; get sum, min, max and average figures\n",
    "\n",
    "diff_list=[]\n",
    "for i in range(len(rows)-1):\n",
    "  diff_list.append(int(rows[i+1][1])- int(rows[i][1]))\n",
    "print(diff_list)\n",
    "diff_list_len = len(diff_list)\n",
    "sum_dif= sum(diff_list)\n",
    "print(sum_dif)\n",
    "average= sum_dif/diff_list_len\n",
    "print(average)\n",
    "print(max(diff_list))\n",
    "print(min(diff_list))\n",
    "\n",
    "# Format answers\n",
    "\n",
    "formatted_average = \"${:,.2f}\".format(average)\n",
    "print(formatted_average)\n",
    "formatted_max_pnldiff = \"${:,.2f}\".format(max(diff_list))\n",
    "print(formatted_max_pnldiff)\n",
    "formatted_min_pnldiff = \"${:,.2f}\".format(min(diff_list))\n",
    "print(formatted_min_pnldiff)"
   ]
  },
  {
   "cell_type": "code",
   "execution_count": 8,
   "id": "83ed25fb",
   "metadata": {},
   "outputs": [
    {
     "name": "stdout",
     "output_type": "stream",
     "text": [
      "24\n",
      "43\n"
     ]
    }
   ],
   "source": [
    "#Find the row number of max P&L difference\n",
    "\n",
    "max_index = (diff_list.index([max(diff_list)][0]))\n",
    "print(max_index)\n",
    "\n",
    "#Find the row number of min P&L difference\n",
    "\n",
    "min_index = (diff_list.index([min(diff_list)][0]))\n",
    "print(min_index)"
   ]
  },
  {
   "cell_type": "code",
   "execution_count": 9,
   "id": "0471af14",
   "metadata": {},
   "outputs": [
    {
     "name": "stdout",
     "output_type": "stream",
     "text": [
      "Feb-2012\n",
      "Sep-2013\n"
     ]
    }
   ],
   "source": [
    "# Locate the month P&L difference was maximum\n",
    "\n",
    "max_month = (rows[max_index + 1][0])\n",
    "print(max_month)\n",
    "\n",
    "# Locate the month P&L difference was minimum\n",
    "\n",
    "min_month = (rows[min_index + 1][0])\n",
    "print(min_month)"
   ]
  },
  {
   "cell_type": "code",
   "execution_count": 10,
   "id": "4ea8ee3b",
   "metadata": {},
   "outputs": [
    {
     "name": "stdout",
     "output_type": "stream",
     "text": [
      "Financial Analysis\n",
      "----------------------------\n",
      "Total Months: 86 \n",
      "Total: $38,382,578.00 \n",
      "Average Change:  $-2,315.12 \n",
      "Greatsest Increase in Profits:  $1,926,159.00 ( Feb-2012 )\n",
      "Greatest Decrease in Profits $-2,196,167.00 ( Sep-2013 )\n"
     ]
    }
   ],
   "source": [
    "# Print analysis result to terminal\n",
    "\n",
    "print(\"Financial Analysis\\n----------------------------\\nTotal Months:\",total_months, \"\\nTotal:\", formatted_sum_pnl, \"\\nAverage Change: \", formatted_average,\"\\nGreatsest Increase in Profits: \", formatted_max_pnldiff, \"(\",max_month,\")\"\"\\nGreatest Decrease in Profits\",formatted_min_pnldiff,\"(\",min_month,\")\")\n"
   ]
  },
  {
   "cell_type": "code",
   "execution_count": 11,
   "id": "23865f04",
   "metadata": {},
   "outputs": [],
   "source": [
    "# Set output file name\n",
    "# Set the output file path\n",
    "output_path = 'PyBank_output.txt'\n",
    "\n",
    "# Open the output_path as a file object in \"write\" mode \n",
    "# Write the contents of 'text' to the file\n",
    "with open(output_path, 'w') as file:\n",
    "    file.write(\"Financial Analysis\\n---------------------\\n\")\n",
    "    file.write(\"Total Months: 86\\n\")\n",
    "    file.write(\"Total: $38,382,578.00\\n\")\n",
    "    file.write(\"Average Change:  $-2,315.12\\n\" )\n",
    "    file.write(\"Greatsest Increase in Profits: $1,926,159.00 (Feb-2012)\\n\")\n",
    "    file.write(\"Greatest Decrease in Profits $-2,196,167.00 (Sep-2013)\")\n",
    "\n"
   ]
  },
  {
   "cell_type": "code",
   "execution_count": null,
   "id": "ff9c8149",
   "metadata": {},
   "outputs": [],
   "source": []
  },
  {
   "cell_type": "code",
   "execution_count": null,
   "id": "2351aa02",
   "metadata": {},
   "outputs": [],
   "source": []
  }
 ],
 "metadata": {
  "kernelspec": {
   "display_name": "Python 3 (ipykernel)",
   "language": "python",
   "name": "python3"
  },
  "language_info": {
   "codemirror_mode": {
    "name": "ipython",
    "version": 3
   },
   "file_extension": ".py",
   "mimetype": "text/x-python",
   "name": "python",
   "nbconvert_exporter": "python",
   "pygments_lexer": "ipython3",
   "version": "3.9.7"
  }
 },
 "nbformat": 4,
 "nbformat_minor": 5
}
